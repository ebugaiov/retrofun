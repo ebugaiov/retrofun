{
 "cells": [
  {
   "cell_type": "code",
   "execution_count": 3,
   "metadata": {},
   "outputs": [],
   "source": [
    "from db import Session\n",
    "from models import Product\n",
    "\n",
    "from sqlalchemy import select, func\n",
    "\n",
    "session = Session()"
   ]
  },
  {
   "cell_type": "code",
   "execution_count": 7,
   "metadata": {},
   "outputs": [
    {
     "data": {
      "text/plain": [
       "[('Acorn Computers Ltd', 1980, 1995, 6),\n",
       " ('AGAT', 1984, 1984, 1),\n",
       " ('Amstrad', 1984, 1990, 7),\n",
       " ('APF Electronics, Inc.', 1979, 1979, 1),\n",
       " ('Apple Computer', 1977, 1988, 6),\n",
       " ('Apricot Computers', 1984, 1984, 1),\n",
       " ('Aster Computers', 1982, 1982, 1),\n",
       " ('Atari Corporation', 1985, 1992, 3),\n",
       " ('Atari, Inc.', 1979, 1985, 7),\n",
       " ('Bally Consumer Products', 1977, 1979, 2),\n",
       " ('Brasov Computer', 1986, 1986, 1),\n",
       " ('Camputers', 1983, 1983, 1),\n",
       " ('Coleco', 1983, 1983, 1),\n",
       " ('Comércio de Componentes Eletrônicos', 1985, 1985, 1),\n",
       " ('Commodore', 1977, 1985, 10),\n",
       " ('Comx World Operations', 1983, 1983, 1),\n",
       " ('Data Applications International', 1980, 1980, 1),\n",
       " ('Didaktik', 1986, 1987, 3),\n",
       " ('Dragon Data', 1982, 1982, 2),\n",
       " ('Dubna', 1991, 1991, 1),\n",
       " ('EACA', 1980, 1983, 2),\n",
       " ('Elektronika', 1985, 1985, 1),\n",
       " ('Elektronska Industrija Niš', 1985, 1985, 2),\n",
       " ('Exidy', 1978, 1978, 1),\n",
       " ('Franklin Computer Corporation', 1982, 1982, 1),\n",
       " ('Fujitsu', 1982, 1989, 2),\n",
       " ('GEM', 1985, 1985, 1),\n",
       " ('Gradiente', 1985, 1985, 1),\n",
       " ('Grundy Business Systems', 1982, 1982, 1),\n",
       " ('Honeywell', 1969, 1969, 1),\n",
       " ('IBM', 1984, 1990, 2),\n",
       " ('Intelligent Software', 1985, 1985, 2),\n",
       " ('Intelligent Systems Corporation', 1977, 1977, 1),\n",
       " ('Interact', 1979, 1979, 1),\n",
       " ('Intercompex', 1990, 1990, 1),\n",
       " ('Iskra', 1989, 1989, 1),\n",
       " ('Ivasim', 1983, 1984, 2),\n",
       " ('Jupiter Cantab', 1982, 1982, 1),\n",
       " ('Lambda Electronics', 1985, 1985, 1),\n",
       " ('Luxor', 1978, 1978, 1),\n",
       " ('Matra', 1983, 1983, 1),\n",
       " ('Mattel', 1983, 1983, 1),\n",
       " ('Memotech', 1983, 1983, 3),\n",
       " ('Microbee Systems', 1983, 1983, 1),\n",
       " ('Microdigital Eletronica', 1985, 1985, 1),\n",
       " ('Miles Gordon Technology', 1989, 1989, 1),\n",
       " ('Multitech', 1983, 1983, 1),\n",
       " ('NEC', 1981, 1983, 2),\n",
       " ('NEC Home Electronics', 1981, 1981, 1),\n",
       " ('PEL Varaždin', 1981, 1984, 2),\n",
       " ('Philips', 1980, 1985, 3),\n",
       " ('Pravetz', 1980, 1985, 3),\n",
       " ('Progeni Systems / Polycorp', 1981, 1981, 1),\n",
       " ('Prológica', 1984, 1984, 1),\n",
       " ('Rabbit', 1983, 1983, 1),\n",
       " ('Radio Shack', 1977, 1987, 6),\n",
       " ('Schneider Computer Division', 1988, 1988, 1),\n",
       " ('Sega', 1983, 1983, 1),\n",
       " ('Sharp', 1979, 1987, 3),\n",
       " ('Sinclair Research', 1980, 1984, 4),\n",
       " ('Sord Computer Corporation', 1977, 1982, 2),\n",
       " ('Štátny majetok Závadka š.p.', 1989, 1989, 1),\n",
       " ('Tangerine Computer Systems', 1983, 1986, 3),\n",
       " ('Technosys', 1984, 1984, 1),\n",
       " ('Tesla', 1985, 1985, 1),\n",
       " ('Texas Instruments', 1979, 1979, 2),\n",
       " ('Thomson', 1982, 1984, 2),\n",
       " ('Timex Sinclair', 1982, 1986, 6),\n",
       " ('Tomy', 1986, 1986, 1),\n",
       " ('Tsinghua University', 1986, 1986, 1),\n",
       " ('VEB Robotron', 1984, 1987, 3),\n",
       " ('Vector', 1987, 1987, 1),\n",
       " ('Videobrain', 1977, 1977, 1),\n",
       " ('Videoton', 1986, 1986, 1),\n",
       " ('Vtech', 1985, 1985, 1),\n",
       " ('West Computer AS', 1984, 1984, 1)]"
      ]
     },
     "execution_count": 7,
     "metadata": {},
     "output_type": "execute_result"
    }
   ],
   "source": [
    "q = (select(\n",
    "    Product.manufacturer,\n",
    "    func.min(Product.year),\n",
    "    func.max(Product.year),\n",
    "    func.count()\n",
    "    )\n",
    "    .group_by(Product.manufacturer)\n",
    "    .order_by(Product.manufacturer)\n",
    ")\n",
    "\n",
    "session.execute(q).all()"
   ]
  },
  {
   "cell_type": "code",
   "execution_count": 5,
   "metadata": {},
   "outputs": [
    {
     "name": "stdout",
     "output_type": "stream",
     "text": [
      "SELECT products.manufacturer, min(products.year) AS min_1, max(products.year) AS max_1, count(*) AS count_1 \n",
      "FROM products GROUP BY products.manufacturer ORDER BY products.manufacturer\n"
     ]
    }
   ],
   "source": [
    "print(q)"
   ]
  },
  {
   "cell_type": "code",
   "execution_count": 8,
   "metadata": {},
   "outputs": [
    {
     "data": {
      "text/plain": [
       "[('Acorn Computers Ltd', 6),\n",
       " ('Amstrad', 7),\n",
       " ('Apple Computer', 6),\n",
       " ('Atari, Inc.', 7),\n",
       " ('Commodore', 10),\n",
       " ('Radio Shack', 6),\n",
       " ('Timex Sinclair', 6)]"
      ]
     },
     "execution_count": 8,
     "metadata": {},
     "output_type": "execute_result"
    }
   ],
   "source": [
    "q = (select(\n",
    "        Product.manufacturer,\n",
    "        func.count()\n",
    "    )\n",
    "    .group_by(Product.manufacturer)\n",
    "    .having(func.count() >= 5)\n",
    "    .order_by(Product.manufacturer)\n",
    ")\n",
    "\n",
    "session.execute(q).all()"
   ]
  },
  {
   "cell_type": "code",
   "execution_count": 9,
   "metadata": {},
   "outputs": [
    {
     "data": {
      "text/plain": [
       "[('Acorn Computers Ltd', 6),\n",
       " ('Amstrad', 7),\n",
       " ('Apple Computer', 6),\n",
       " ('Atari, Inc.', 7),\n",
       " ('Commodore', 10),\n",
       " ('Radio Shack', 6),\n",
       " ('Timex Sinclair', 6)]"
      ]
     },
     "execution_count": 9,
     "metadata": {},
     "output_type": "execute_result"
    }
   ],
   "source": [
    "num_products = func.count().label(None)\n",
    "\n",
    "q = (select(\n",
    "        Product.manufacturer,\n",
    "        num_products\n",
    "    )\n",
    "    .group_by(Product.manufacturer)\n",
    "    .having(num_products >= 5)\n",
    "    .order_by(Product.manufacturer)\n",
    ")\n",
    "\n",
    "session.execute(q).all()"
   ]
  },
  {
   "cell_type": "code",
   "execution_count": 10,
   "metadata": {},
   "outputs": [
    {
     "name": "stdout",
     "output_type": "stream",
     "text": [
      "SELECT products.manufacturer, count(*) AS count_1 \n",
      "FROM products GROUP BY products.manufacturer \n",
      "HAVING count(*) >= :param_1 ORDER BY products.manufacturer\n"
     ]
    }
   ],
   "source": [
    "print(q)"
   ]
  },
  {
   "cell_type": "code",
   "execution_count": 11,
   "metadata": {},
   "outputs": [
    {
     "data": {
      "text/plain": [
       "[Product(131, \"Aamber Pegasus\"),\n",
       " Product(84, \"ABC 80\"),\n",
       " Product(5, \"Acorn Archimedes\")]"
      ]
     },
     "execution_count": 11,
     "metadata": {},
     "output_type": "execute_result"
    }
   ],
   "source": [
    "q = select(Product).order_by(Product.name).limit(3).offset(3)\n",
    "session.scalars(q).all()"
   ]
  },
  {
   "cell_type": "code",
   "execution_count": 12,
   "metadata": {},
   "outputs": [
    {
     "data": {
      "text/plain": [
       "Product(23, \"CT-80\")"
      ]
     },
     "execution_count": 12,
     "metadata": {},
     "output_type": "execute_result"
    }
   ],
   "source": [
    "q = select(Product).where(Product.id == 23)\n",
    "session.scalar(q)"
   ]
  },
  {
   "cell_type": "code",
   "execution_count": 13,
   "metadata": {},
   "outputs": [
    {
     "data": {
      "text/plain": [
       "Product(23, \"CT-80\")"
      ]
     },
     "execution_count": 13,
     "metadata": {},
     "output_type": "execute_result"
    }
   ],
   "source": [
    "session.get(Product, 23)"
   ]
  },
  {
   "cell_type": "code",
   "execution_count": 15,
   "metadata": {},
   "outputs": [],
   "source": [
    "from sqlalchemy import select\n",
    "from db import Session\n",
    "from models import Product, Manufacturer\n",
    "session = Session()"
   ]
  },
  {
   "cell_type": "code",
   "execution_count": 3,
   "metadata": {},
   "outputs": [
    {
     "data": {
      "text/plain": [
       "Product(127, \"ZX Spectrum\")"
      ]
     },
     "execution_count": 3,
     "metadata": {},
     "output_type": "execute_result"
    }
   ],
   "source": [
    "p = session.scalar(select(Product).where(Product.name == 'ZX Spectrum'))\n",
    "p"
   ]
  },
  {
   "cell_type": "code",
   "execution_count": 5,
   "metadata": {},
   "outputs": [
    {
     "name": "stdout",
     "output_type": "stream",
     "text": [
      "Manufacturer(63, \"Sinclair Research\")\n",
      "Sinclair Research\n"
     ]
    }
   ],
   "source": [
    "print(p.manufacturer)\n",
    "print(p.manufacturer.name)"
   ]
  },
  {
   "cell_type": "code",
   "execution_count": 6,
   "metadata": {},
   "outputs": [
    {
     "data": {
      "text/plain": [
       "[Product(125, \"ZX80\"),\n",
       " Product(126, \"ZX81\"),\n",
       " Product(127, \"ZX Spectrum\"),\n",
       " Product(128, \"Sinclair QL\")]"
      ]
     },
     "execution_count": 6,
     "metadata": {},
     "output_type": "execute_result"
    }
   ],
   "source": [
    "p.manufacturer.products"
   ]
  },
  {
   "cell_type": "code",
   "execution_count": 7,
   "metadata": {},
   "outputs": [
    {
     "name": "stdout",
     "output_type": "stream",
     "text": [
      "Manufacturer(66, \"Texas Instruments\")\n",
      "[Product(132, \"TI-99/4\"), Product(133, \"TI-99/4A\")]\n"
     ]
    }
   ],
   "source": [
    "m = session.scalar(select(Manufacturer)\n",
    "                   .where(Manufacturer.name == 'Texas Instruments'))\n",
    "print(m)\n",
    "print(m.products)"
   ]
  },
  {
   "cell_type": "code",
   "execution_count": 9,
   "metadata": {},
   "outputs": [
    {
     "data": {
      "text/plain": [
       "[('Acorn Atom', 'Acorn Computers Ltd'),\n",
       " ('BBC Micro', 'Acorn Computers Ltd'),\n",
       " ('Electron', 'Acorn Computers Ltd')]"
      ]
     },
     "execution_count": 9,
     "metadata": {},
     "output_type": "execute_result"
    }
   ],
   "source": [
    "q = select(Product.name, Manufacturer.name)\\\n",
    "    .join(Product.manufacturer)\\\n",
    "    .limit(3)\n",
    "session.execute(q).all()"
   ]
  },
  {
   "cell_type": "code",
   "execution_count": 10,
   "metadata": {},
   "outputs": [
    {
     "name": "stdout",
     "output_type": "stream",
     "text": [
      "SELECT products.name, manufacturers.name AS name_1 \n",
      "FROM products JOIN manufacturers ON manufacturers.id = products.manufacturer_id\n",
      " LIMIT :param_1\n"
     ]
    }
   ],
   "source": [
    "print(q)"
   ]
  },
  {
   "cell_type": "code",
   "execution_count": 17,
   "metadata": {},
   "outputs": [
    {
     "data": {
      "text/plain": [
       "[(Manufacturer(1, \"Acorn Computers Ltd\"), 6),\n",
       " (Manufacturer(24, \"AGAT\"), 1),\n",
       " (Manufacturer(2, \"Amstrad\"), 7),\n",
       " (Manufacturer(4, \"APF Electronics, Inc.\"), 1),\n",
       " (Manufacturer(5, \"Apple Computer\"), 6)]"
      ]
     },
     "execution_count": 17,
     "metadata": {},
     "output_type": "execute_result"
    }
   ],
   "source": [
    "from sqlalchemy import func\n",
    "\n",
    "q = select(\n",
    "        Manufacturer,\n",
    "        func.count(Product.id)\n",
    "    )\\\n",
    "    .join(Manufacturer.products)\\\n",
    "    .group_by(Manufacturer)\\\n",
    "    .order_by(Manufacturer.name)\\\n",
    "    .limit(5)\n",
    "\n",
    "session.execute(q).all()\n"
   ]
  },
  {
   "cell_type": "code",
   "execution_count": 18,
   "metadata": {},
   "outputs": [
    {
     "name": "stdout",
     "output_type": "stream",
     "text": [
      "SELECT manufacturers.id, manufacturers.name, count(products.id) AS count_1 \n",
      "FROM manufacturers JOIN products ON manufacturers.id = products.manufacturer_id GROUP BY manufacturers.id, manufacturers.name ORDER BY manufacturers.name\n",
      " LIMIT :param_1\n"
     ]
    }
   ],
   "source": [
    "print(q)"
   ]
  },
  {
   "cell_type": "code",
   "execution_count": 29,
   "metadata": {},
   "outputs": [],
   "source": [
    "from db import Session\n",
    "from models import Product\n",
    "from sqlalchemy import select\n",
    "\n",
    "session = Session()"
   ]
  },
  {
   "cell_type": "code",
   "execution_count": 30,
   "metadata": {},
   "outputs": [
    {
     "data": {
      "text/plain": [
       "['Australia',\n",
       " 'Belgium',\n",
       " 'Brazil',\n",
       " 'Bulgaria',\n",
       " 'China',\n",
       " 'Croatia',\n",
       " 'Czechoslovakia',\n",
       " 'East Germany',\n",
       " 'France',\n",
       " 'Germany',\n",
       " 'Hong Kong',\n",
       " 'Hungary',\n",
       " 'Japan',\n",
       " 'Netherlands',\n",
       " 'New Zealand',\n",
       " 'Norway',\n",
       " 'Portugal',\n",
       " 'Portugal/Poland',\n",
       " 'Romania',\n",
       " 'Serbia',\n",
       " 'Sweden',\n",
       " 'Taiwan',\n",
       " 'UK',\n",
       " 'USA',\n",
       " 'USA/UK/Portugal',\n",
       " 'USSR']"
      ]
     },
     "execution_count": 30,
     "metadata": {},
     "output_type": "execute_result"
    }
   ],
   "source": [
    "q = select(Product.country).order_by(Product.country).distinct()\n",
    "\n",
    "session.scalars(q).all()"
   ]
  },
  {
   "cell_type": "code",
   "execution_count": 1,
   "metadata": {},
   "outputs": [],
   "source": [
    "from db import Session\n",
    "from models import Product, Manufacturer, Country\n",
    "from sqlalchemy import select, func\n",
    "\n",
    "session = Session()"
   ]
  },
  {
   "cell_type": "code",
   "execution_count": 2,
   "metadata": {},
   "outputs": [
    {
     "data": {
      "text/plain": [
       "[Country(1, \"UK\"), Country(3, \"USA\"), Country(22, \"Portugal\")]"
      ]
     },
     "execution_count": 2,
     "metadata": {},
     "output_type": "execute_result"
    }
   ],
   "source": [
    "p = session.scalar(\n",
    "    select(Product)\\\n",
    "        .where(Product.name == 'Timex Sinclair 1000')\n",
    ")\n",
    "\n",
    "p.countries"
   ]
  },
  {
   "cell_type": "code",
   "execution_count": 3,
   "metadata": {},
   "outputs": [
    {
     "data": {
      "text/plain": [
       "[Product(138, \"Timex Sinclair 1000\"),\n",
       " Product(139, \"Timex Sinclair 1500\"),\n",
       " Product(140, \"Timex Sinclair 2048\"),\n",
       " Product(141, \"Timex Computer 2048\"),\n",
       " Product(142, \"Timex Computer 2068\"),\n",
       " Product(143, \"Komputer 2086\")]"
      ]
     },
     "execution_count": 3,
     "metadata": {},
     "output_type": "execute_result"
    }
   ],
   "source": [
    "c = session.scalar(\n",
    "    select(Country)\\\n",
    "        .where(Country.name == 'Portugal')\n",
    ")\n",
    "\n",
    "c.products"
   ]
  },
  {
   "cell_type": "code",
   "execution_count": 4,
   "metadata": {},
   "outputs": [
    {
     "data": {
      "text/plain": [
       "[(Product(143, \"Komputer 2086\"), 2),\n",
       " (Product(142, \"Timex Computer 2068\"), 3),\n",
       " (Product(138, \"Timex Sinclair 1000\"), 3),\n",
       " (Product(139, \"Timex Sinclair 1500\"), 3),\n",
       " (Product(140, \"Timex Sinclair 2048\"), 3)]"
      ]
     },
     "execution_count": 4,
     "metadata": {},
     "output_type": "execute_result"
    }
   ],
   "source": [
    "country_count = func.count(Country.id).label(None)\n",
    "q = select(Product, country_count)\\\n",
    "        .join(Product.countries)\\\n",
    "        .group_by(Product)\\\n",
    "        .having(country_count >= 2)\\\n",
    "        .order_by(Product.name)\n",
    "    \n",
    "session.execute(q).all()"
   ]
  },
  {
   "cell_type": "code",
   "execution_count": 5,
   "metadata": {},
   "outputs": [
    {
     "data": {
      "text/plain": [
       "[Manufacturer(1, \"Acorn Computers Ltd\"),\n",
       " Manufacturer(2, \"Amstrad\"),\n",
       " Manufacturer(6, \"Apricot Computers\"),\n",
       " Manufacturer(12, \"Camputers\"),\n",
       " Manufacturer(21, \"Dragon Data\"),\n",
       " Manufacturer(31, \"Grundy Business Systems\"),\n",
       " Manufacturer(27, \"Intelligent Software\"),\n",
       " Manufacturer(40, \"Jupiter Cantab\"),\n",
       " Manufacturer(44, \"Memotech\"),\n",
       " Manufacturer(48, \"Miles Gordon Technology\"),\n",
       " Manufacturer(63, \"Sinclair Research\"),\n",
       " Manufacturer(54, \"Tangerine Computer Systems\"),\n",
       " Manufacturer(70, \"Timex Sinclair\")]"
      ]
     },
     "execution_count": 5,
     "metadata": {},
     "output_type": "execute_result"
    }
   ],
   "source": [
    "q = select(Manufacturer)\\\n",
    "        .join(Manufacturer.products)\\\n",
    "        .join(Product.countries)\\\n",
    "        .where(Country.name == 'UK')\\\n",
    "        .order_by(Manufacturer.name)\\\n",
    "        .distinct()\n",
    "\n",
    "session.scalars(q).all()"
   ]
  },
  {
   "cell_type": "code",
   "execution_count": 6,
   "metadata": {},
   "outputs": [
    {
     "data": {
      "text/plain": [
       "[(Manufacturer(70, \"Timex Sinclair\"), 4)]"
      ]
     },
     "execution_count": 6,
     "metadata": {},
     "output_type": "execute_result"
    }
   ],
   "source": [
    "country_count = func.count(Country.id.distinct()).label(None)\n",
    "\n",
    "q = select(Manufacturer, country_count)\\\n",
    "        .join(Manufacturer.products)\\\n",
    "        .join(Product.countries)\\\n",
    "        .group_by(Manufacturer)\\\n",
    "        .having(country_count >= 2)\n",
    "\n",
    "session.execute(q).all()"
   ]
  },
  {
   "cell_type": "code",
   "execution_count": 10,
   "metadata": {},
   "outputs": [
    {
     "name": "stdout",
     "output_type": "stream",
     "text": [
      "Country(22, \"Portugal\")\n",
      "Product(138, \"Timex Sinclair 1000\")\n",
      "[Country(1, \"UK\"), Country(3, \"USA\"), Country(22, \"Portugal\")]\n",
      "[Country(1, \"UK\"), Country(3, \"USA\")]\n"
     ]
    }
   ],
   "source": [
    "c = session.get(Country, 22)\n",
    "print(c)\n",
    "p = session.get(Product, 138)\n",
    "print(p)\n",
    "print(p.countries)\n",
    "\n",
    "session.delete(c)\n",
    "session.commit()\n",
    "print(p.countries)"
   ]
  },
  {
   "cell_type": "code",
   "execution_count": 14,
   "metadata": {},
   "outputs": [
    {
     "name": "stdout",
     "output_type": "stream",
     "text": [
      "Country(1, \"UK\")\n",
      "Product(138, \"Timex Sinclair 1000\")\n",
      "[Country(1, \"UK\"), Country(3, \"USA\")]\n",
      "True\n",
      "[Country(3, \"USA\")]\n"
     ]
    }
   ],
   "source": [
    "c = session.get(Country, 1)\n",
    "print(c)\n",
    "p = session.get(Product, 138)\n",
    "print(p)\n",
    "print(p.countries)\n",
    "\n",
    "print(c in p.countries)\n",
    "p.countries.remove(c)\n",
    "session.commit()\n",
    "print(p.countries)"
   ]
  }
 ],
 "metadata": {
  "kernelspec": {
   "display_name": "venv",
   "language": "python",
   "name": "python3"
  },
  "language_info": {
   "codemirror_mode": {
    "name": "ipython",
    "version": 3
   },
   "file_extension": ".py",
   "mimetype": "text/x-python",
   "name": "python",
   "nbconvert_exporter": "python",
   "pygments_lexer": "ipython3",
   "version": "3.12.6"
  }
 },
 "nbformat": 4,
 "nbformat_minor": 2
}
