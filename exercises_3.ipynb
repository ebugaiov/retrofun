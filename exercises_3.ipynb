{
 "cells": [
  {
   "cell_type": "code",
   "execution_count": 17,
   "metadata": {},
   "outputs": [],
   "source": [
    "from db import Session\n",
    "from models import Product, Manufacturer\n",
    "from sqlalchemy import select, or_\n",
    "from sqlalchemy.orm import joinedload\n",
    "\n",
    "session = Session()"
   ]
  },
  {
   "cell_type": "code",
   "execution_count": 20,
   "metadata": {},
   "outputs": [
    {
     "data": {
      "text/plain": [
       "[Product(75, \"PCjr\"),\n",
       " Product(76, \"IBM PS/1\"),\n",
       " Product(132, \"TI-99/4\"),\n",
       " Product(133, \"TI-99/4A\")]"
      ]
     },
     "execution_count": 20,
     "metadata": {},
     "output_type": "execute_result"
    }
   ],
   "source": [
    "# 1. The list of product made by IBM and Texas Instruments.\n",
    "\n",
    "q = select(Product)\\\n",
    "        .join(Product.manufacturer)\\\n",
    "        .where(or_(\n",
    "            Manufacturer.name == 'IBM',\n",
    "            Manufacturer.name == 'Texas Instruments'))\n",
    "\n",
    "session.scalars(q).all()   "
   ]
  },
  {
   "cell_type": "code",
   "execution_count": 21,
   "metadata": {},
   "outputs": [
    {
     "data": {
      "text/plain": [
       "[Manufacturer(32, \"Gradiente\"),\n",
       " Manufacturer(46, \"Comércio de Componentes Eletrônicos\"),\n",
       " Manufacturer(47, \"Microdigital Eletronica\"),\n",
       " Manufacturer(59, \"Prológica\")]"
      ]
     },
     "execution_count": 21,
     "metadata": {},
     "output_type": "execute_result"
    }
   ],
   "source": [
    "# 2. Manufactures that operate in Brazil\n",
    "\n",
    "q = select(Manufacturer)\\\n",
    "        .join(Manufacturer.products)\\\n",
    "        .where(Product.country == 'Brazil')\n",
    "\n",
    "session.scalars(q).all()"
   ]
  },
  {
   "cell_type": "code",
   "execution_count": 22,
   "metadata": {},
   "outputs": [
    {
     "data": {
      "text/plain": [
       "[Product(125, \"ZX80\"),\n",
       " Product(126, \"ZX81\"),\n",
       " Product(127, \"ZX Spectrum\"),\n",
       " Product(128, \"Sinclair QL\")]"
      ]
     },
     "execution_count": 22,
     "metadata": {},
     "output_type": "execute_result"
    }
   ],
   "source": [
    "# 3. Products that have a manufacturer that has the word 'Research'\n",
    "# in their name\n",
    "\n",
    "q = select(Product)\\\n",
    "        .join(Product.manufacturer)\\\n",
    "        .where(Manufacturer.name.like('%Research%'))\n",
    "\n",
    "session.scalars(q).all()"
   ]
  }
 ],
 "metadata": {
  "kernelspec": {
   "display_name": "venv",
   "language": "python",
   "name": "python3"
  },
  "language_info": {
   "codemirror_mode": {
    "name": "ipython",
    "version": 3
   },
   "file_extension": ".py",
   "mimetype": "text/x-python",
   "name": "python",
   "nbconvert_exporter": "python",
   "pygments_lexer": "ipython3",
   "version": "3.12.6"
  }
 },
 "nbformat": 4,
 "nbformat_minor": 2
}
