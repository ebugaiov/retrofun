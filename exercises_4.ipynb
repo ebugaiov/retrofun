{
 "cells": [
  {
   "cell_type": "code",
   "execution_count": 3,
   "metadata": {},
   "outputs": [],
   "source": [
    "from db import Session\n",
    "from models import Product, Manufacturer, Country\n",
    "from sqlalchemy import select, or_\n",
    "\n",
    "session = Session()"
   ]
  },
  {
   "cell_type": "code",
   "execution_count": 4,
   "metadata": {},
   "outputs": [
    {
     "data": {
      "text/plain": [
       "[Product(15, \"Imagination Machine\"),\n",
       " Product(16, \"Apple II\"),\n",
       " Product(17, \"Apple IIe\"),\n",
       " Product(18, \"Apple IIc\"),\n",
       " Product(19, \"Apple IIc Plus\"),\n",
       " Product(20, \"Apple II Plus\"),\n",
       " Product(21, \"Apple IIGS\"),\n",
       " Product(24, \"Atari 400\"),\n",
       " Product(25, \"Atari 800\"),\n",
       " Product(26, \"Atari 1200XL\"),\n",
       " Product(27, \"Atari 600XL\"),\n",
       " Product(28, \"Atari 800XL\"),\n",
       " Product(29, \"Atari 65XE\"),\n",
       " Product(30, \"Atari 130XE\"),\n",
       " Product(31, \"Atari ST\"),\n",
       " Product(32, \"Atari TT\"),\n",
       " Product(33, \"Falcon\"),\n",
       " Product(34, \"Bally Brain\"),\n",
       " Product(35, \"Bally Astrocade\"),\n",
       " Product(38, \"Coleco Adam\"),\n",
       " Product(39, \"PET\"),\n",
       " Product(40, \"VIC-20\"),\n",
       " Product(41, \"Commodore 64\"),\n",
       " Product(42, \"Commodore Executive 64\"),\n",
       " Product(43, \"MAX Machine\"),\n",
       " Product(44, \"Commodore 16\"),\n",
       " Product(45, \"Commodore 116\"),\n",
       " Product(46, \"Plus/4\"),\n",
       " Product(47, \"Commodore 128\"),\n",
       " Product(48, \"Amiga\"),\n",
       " Product(65, \"Exidy Sorcerer\"),\n",
       " Product(69, \"Franklin ACE\"),\n",
       " Product(74, \"Honeywell 316\"),\n",
       " Product(75, \"PCjr\"),\n",
       " Product(76, \"IBM PS/1\"),\n",
       " Product(77, \"Interact Home Computer\"),\n",
       " Product(78, \"Compucolor II\"),\n",
       " Product(85, \"Aquarius\"),\n",
       " Product(98, \"TRS-80 Color Computer\"),\n",
       " Product(99, \"TRS-80 Color Computer 2\"),\n",
       " Product(100, \"TRS-80 Color Computer 3\"),\n",
       " Product(101, \"TRS-80 Model I\"),\n",
       " Product(102, \"TRS-80 MC-10\"),\n",
       " Product(103, \"Tandy 1000\"),\n",
       " Product(132, \"TI-99/4\"),\n",
       " Product(133, \"TI-99/4A\"),\n",
       " Product(138, \"Timex Sinclair 1000\"),\n",
       " Product(139, \"Timex Sinclair 1500\"),\n",
       " Product(140, \"Timex Sinclair 2048\"),\n",
       " Product(142, \"Timex Computer 2068\"),\n",
       " Product(146, \"VideoBrain Family Computer\"),\n",
       " Product(1, \"Acorn Atom\"),\n",
       " Product(2, \"BBC Micro\"),\n",
       " Product(3, \"Electron\"),\n",
       " Product(4, \"BBC Master\"),\n",
       " Product(5, \"Acorn Archimedes\"),\n",
       " Product(6, \"A7000\"),\n",
       " Product(7, \"CPC 464\"),\n",
       " Product(8, \"CPC 664\"),\n",
       " Product(9, \"CPC 6128\"),\n",
       " Product(10, \"464 Plus\"),\n",
       " Product(11, \"6128 Plus\"),\n",
       " Product(12, \"PCW\"),\n",
       " Product(13, \"PC-1512\"),\n",
       " Product(22, \"Apricot F1\"),\n",
       " Product(37, \"Lynx\"),\n",
       " Product(58, \"Dragon 32\"),\n",
       " Product(59, \"Dragon 64\"),\n",
       " Product(66, \"Enterprise 64\"),\n",
       " Product(67, \"Enterprise 128\"),\n",
       " Product(72, \"Grundy NewBrain\"),\n",
       " Product(83, \"Jupiter ACE\"),\n",
       " Product(87, \"MTX500\"),\n",
       " Product(88, \"MTX512\"),\n",
       " Product(89, \"RS128\"),\n",
       " Product(93, \"SAM Coupé\"),\n",
       " Product(105, \"Oric 1\"),\n",
       " Product(106, \"Oric Atmos\"),\n",
       " Product(107, \"Oric Telestrat\"),\n",
       " Product(125, \"ZX80\"),\n",
       " Product(126, \"ZX81\"),\n",
       " Product(127, \"ZX Spectrum\"),\n",
       " Product(128, \"Sinclair QL\"),\n",
       " Product(138, \"Timex Sinclair 1000\"),\n",
       " Product(139, \"Timex Sinclair 1500\"),\n",
       " Product(140, \"Timex Sinclair 2048\"),\n",
       " Product(142, \"Timex Computer 2068\")]"
      ]
     },
     "execution_count": 4,
     "metadata": {},
     "output_type": "execute_result"
    }
   ],
   "source": [
    "# 1. Products that were made in UK or USA.\n",
    "\n",
    "q = select(Product)\\\n",
    "        .join(Product.countries)\\\n",
    "        .where(or_(Country.name == 'UK', Country.name == 'USA'))\n",
    "\n",
    "session.scalars(q).all()"
   ]
  },
  {
   "cell_type": "code",
   "execution_count": null,
   "metadata": {},
   "outputs": [],
   "source": [
    "# 2. Products not made in UK or USA. Products that were made in UK\n",
    "# and/or USA joinly with other countries should be included in the\n",
    "# query results.\n",
    "\n"
   ]
  }
 ],
 "metadata": {
  "kernelspec": {
   "display_name": "venv",
   "language": "python",
   "name": "python3"
  },
  "language_info": {
   "codemirror_mode": {
    "name": "ipython",
    "version": 3
   },
   "file_extension": ".py",
   "mimetype": "text/x-python",
   "name": "python",
   "nbconvert_exporter": "python",
   "pygments_lexer": "ipython3",
   "version": "3.12.6"
  }
 },
 "nbformat": 4,
 "nbformat_minor": 2
}
