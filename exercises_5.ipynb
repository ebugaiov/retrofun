{
 "cells": [
  {
   "cell_type": "code",
   "id": "initial_id",
   "metadata": {
    "collapsed": true,
    "ExecuteTime": {
     "end_time": "2024-10-21T13:06:43.566238Z",
     "start_time": "2024-10-21T13:06:43.396978Z"
    }
   },
   "source": [
    "from sqlalchemy import select, func\n",
    "from db import Session\n",
    "from models import *\n",
    "\n",
    "session = Session()"
   ],
   "outputs": [],
   "execution_count": 1
  },
  {
   "metadata": {
    "ExecuteTime": {
     "end_time": "2024-10-21T13:08:53.763980Z",
     "start_time": "2024-10-21T13:08:53.749255Z"
    }
   },
   "cell_type": "code",
   "source": [
    "# 1. Orders above $300 in descending ordered by the sale amount form highest to lowest.\n",
    "\n",
    "order_amount = func.sum(OrderItem.unit_price * OrderItem.quantity).label(None)\n",
    "q = (select(Order)\n",
    "     .join(Order.order_items)\n",
    "     .group_by(Order)\n",
    "     .having(order_amount > 300)\n",
    "     .order_by(order_amount.desc())\n",
    "     )\n",
    "\n",
    "session.scalars(q).all()"
   ],
   "id": "4cd88161891e22a5",
   "outputs": [
    {
     "data": {
      "text/plain": [
       "[Order(9aa61f88cec14c1181467d769fdda0f9),\n",
       " Order(ec01eb3910b34d1e9e2410c895a212fb),\n",
       " Order(9dc937201ff045a280b9304bd15de6d2),\n",
       " Order(64477d51a4e3454ca2929b0261936415),\n",
       " Order(ba3d2648d98c43cebc9ceaa2173f2b61),\n",
       " Order(55a2a7e593654707b05c4b0cdc099edf),\n",
       " Order(fe10711e7f4a461c9e9698bddd84de76),\n",
       " Order(4c3d2e5880b14339a7d264af7f6edc4d),\n",
       " Order(9f2c3945bc5546d1b82c7f2908578fc2),\n",
       " Order(0bc4ca9d8f5d424f92513970ab169be7),\n",
       " Order(7d69ee16a8834db9bc501892d75ec31a),\n",
       " Order(e8477d9f280541119f930072182b71c2),\n",
       " Order(56cf86ecd4094588bab74f93ccd5eb10),\n",
       " Order(641af8d873ae4246a22f9e7a90d50d36),\n",
       " Order(f4e902bae422431cba128c5f5c6edc65),\n",
       " Order(006dcb9ab22b4df5a911c688d220912e),\n",
       " Order(4d5d67fb97bf40aa816e207350ce1b36),\n",
       " Order(4f097461400b46b4b36d4e65b594e480),\n",
       " Order(8fd7823e4e904f82bc4353f29d1b10e1),\n",
       " Order(1da70228dd0a45d3a3a38bfcb5525430),\n",
       " Order(1c88d7733a394406a957dd1008d83923),\n",
       " Order(4ddfc75c61b8483980fba5559c1bc845),\n",
       " Order(1f96accfbef846e98da3ef76e0e1cd8e),\n",
       " Order(69e024adb59e4910995050c7b8adb411),\n",
       " Order(0d6729be60ea4ac4a455c69c88e292bf),\n",
       " Order(a9166ae232b1437c9a7de3813ef97e92),\n",
       " Order(1a6f5caecc06437b8ba7bfd3e25b5843),\n",
       " Order(64aa0e9b96174855a22b71ba3dd26aba),\n",
       " Order(9619aaea99da43028c78128004343fb8),\n",
       " Order(3a46663c71c14fd484e680e5c0194cdb),\n",
       " Order(18921c3cc89d469a9fd8140cef96c036),\n",
       " Order(a70ba564641143b1b85fc180118b4064),\n",
       " Order(bd043dbd6136499d8017a522f326f746),\n",
       " Order(58889120c84245c78e974932de4cca4f),\n",
       " Order(cf962aa50f1f42c9a03f05611ab42ced),\n",
       " Order(e2336790df9e4d6ebe1a23aa1f5a8d35),\n",
       " Order(adb05d7dae494ffdaf3ff7d7664b3c0a),\n",
       " Order(4f649776c9c14fb6884f08689457cfe4),\n",
       " Order(8f6b701e614b4b3abdeea7cffe3faaa5),\n",
       " Order(a3a8817e73584033b78ac8a8c463a99a),\n",
       " Order(f6d6a7e6c86a4643b7abbd1db1976ff1),\n",
       " Order(a74d403e9a0547e58d68f7e9138a5f60),\n",
       " Order(946949fb5e3041f2be6bf3e285f7bfd2),\n",
       " Order(418cf50989484df0aa5e1d010df8e1d4),\n",
       " Order(4ee17b3dbf274418a191d21bfb05d047),\n",
       " Order(28f71f89ae60494ba2dfada47d53afc2),\n",
       " Order(8985172a14554eb3b14737f3ed515444),\n",
       " Order(4991c75b8ca744a9a23bbc4c3490143d),\n",
       " Order(8cb664124d2a4997a6009405d64672e3),\n",
       " Order(0c1cf035bf474904b0fc07ccf83b3e83)]"
      ]
     },
     "execution_count": 5,
     "metadata": {},
     "output_type": "execute_result"
    }
   ],
   "execution_count": 5
  }
 ],
 "metadata": {
  "kernelspec": {
   "display_name": "Python 3",
   "language": "python",
   "name": "python3"
  },
  "language_info": {
   "codemirror_mode": {
    "name": "ipython",
    "version": 2
   },
   "file_extension": ".py",
   "mimetype": "text/x-python",
   "name": "python",
   "nbconvert_exporter": "python",
   "pygments_lexer": "ipython2",
   "version": "2.7.6"
  }
 },
 "nbformat": 4,
 "nbformat_minor": 5
}
